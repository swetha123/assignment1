{
 "cells": [
  {
   "cell_type": "markdown",
   "id": "18d39bad",
   "metadata": {},
   "source": [
    "# ASSIGNMENT - 1 "
   ]
  },
  {
   "cell_type": "markdown",
   "id": "bc12c546",
   "metadata": {},
   "source": [
    "1. In the below elements which of them are values or an expression? eg:- values can be integer or string and expressions will be mathematical operators.\n",
    "\n",
    "ANS : values -  \"hello\", -87.8 , 6 \n",
    "    : exprssions - * , - , / , + "
   ]
  },
  {
   "cell_type": "markdown",
   "id": "8c66680d",
   "metadata": {},
   "source": [
    "2. What is the difference between string and variable?\n",
    "\n",
    "ans: variable is anything that stores data in it. \n",
    "     ex : variables like num1 = 123 , str2 = \"hello\".\n",
    "     but string is a data type in programming that includes characters   which are indouble or single quoted . it is the type of data  that  computer stores in a variable."
   ]
  },
  {
   "cell_type": "markdown",
   "id": "5d9f51bb",
   "metadata": {},
   "source": [
    "3. Describe three different data types.\n",
    "\n",
    "ans : 3 different types of data :\n",
    "      1) integer/float - this data type contains numbers like   12,432,34.345\n",
    "      2)  string - this data type holds characters which are enclosed in double or single quotes like \"hello world\" , \"adress123\".\n",
    "      3) boolean  - this data type holds only 2 specific data i.e TRUE or FALSE. it is used to store the answer in condition statements that has 0 or 1 s answer."
   ]
  },
  {
   "cell_type": "markdown",
   "id": "2503accb",
   "metadata": {},
   "source": [
    "4 What is an expression made up of? What do all expressions do?\n",
    "\n",
    "ans : expression is made up of values, operators like +,-, and a variable to store the final output. \n",
    "all expressions are used to derive the final value of mathematical problem.\n",
    "ex : x = 12 + 24"
   ]
  },
  {
   "cell_type": "markdown",
   "id": "d2a12570",
   "metadata": {},
   "source": [
    "5. This assignment statements, like spam = 10. What is the difference between an expression and a statement?\n",
    "\n",
    "ans : a statement is used to assign a variable some value or to display an output.\n",
    "ex: xyz = 123 , print(1234)\n",
    "but an expression is a combination of operators and values that performs some task and gives the desired output.\n",
    "x = 24 - 35"
   ]
  },
  {
   "cell_type": "markdown",
   "id": "0a5f4fb0",
   "metadata": {},
   "source": [
    "6. After running the following code, what does the variable bacon contain?\n",
    "\n",
    "bacon = 22\n",
    "\n",
    "bacon + 1\n"
   ]
  },
  {
   "cell_type": "code",
   "execution_count": 1,
   "id": "ad523a55",
   "metadata": {},
   "outputs": [],
   "source": [
    "bacon = 22"
   ]
  },
  {
   "cell_type": "code",
   "execution_count": 2,
   "id": "ce7bfe5a",
   "metadata": {},
   "outputs": [
    {
     "data": {
      "text/plain": [
       "23"
      ]
     },
     "execution_count": 2,
     "metadata": {},
     "output_type": "execute_result"
    }
   ],
   "source": [
    "bacon + 1"
   ]
  },
  {
   "cell_type": "code",
   "execution_count": 3,
   "id": "f9a29d1f",
   "metadata": {},
   "outputs": [
    {
     "data": {
      "text/plain": [
       "22"
      ]
     },
     "execution_count": 3,
     "metadata": {},
     "output_type": "execute_result"
    }
   ],
   "source": [
    "bacon "
   ]
  },
  {
   "cell_type": "markdown",
   "id": "541857b7",
   "metadata": {},
   "source": [
    "in the above code the bacon will be having the value as 22 only. "
   ]
  },
  {
   "cell_type": "markdown",
   "id": "2609f6fd",
   "metadata": {},
   "source": [
    "7. What should the values of the following two terms be?\n",
    "\n",
    "'spam' + 'spamspam'\n",
    "\n",
    "'spam' * 3\n"
   ]
  },
  {
   "cell_type": "code",
   "execution_count": 4,
   "id": "6a2fd787",
   "metadata": {},
   "outputs": [
    {
     "data": {
      "text/plain": [
       "'spamspamspam'"
      ]
     },
     "execution_count": 4,
     "metadata": {},
     "output_type": "execute_result"
    }
   ],
   "source": [
    "'spam'+'spamspam'"
   ]
  },
  {
   "cell_type": "code",
   "execution_count": 5,
   "id": "44b72440",
   "metadata": {},
   "outputs": [
    {
     "data": {
      "text/plain": [
       "'spamspamspam'"
      ]
     },
     "execution_count": 5,
     "metadata": {},
     "output_type": "execute_result"
    }
   ],
   "source": [
    "'spam'*3"
   ]
  },
  {
   "cell_type": "markdown",
   "id": "633ff8bd",
   "metadata": {},
   "source": [
    "in the above code both terms results in the same output. here it is nothing but string concatenation "
   ]
  },
  {
   "cell_type": "markdown",
   "id": "750f102c",
   "metadata": {},
   "source": [
    "8. Why is eggs a valid variable name while 100 is invalid?\n",
    "\n",
    "ans -  as per the rules a variable name has to start with a character. it should not start with a digit or any special characters. also here 100 will be understood as a value not as a variable"
   ]
  },
  {
   "cell_type": "markdown",
   "id": "5ce77b99",
   "metadata": {},
   "source": [
    "9. What three functions can be used to get the integer, floating-point number, or string version of a value?\n",
    "\n",
    "ans - we can use int(),float() , str() functions"
   ]
  },
  {
   "cell_type": "code",
   "execution_count": 7,
   "id": "463eb479",
   "metadata": {},
   "outputs": [],
   "source": [
    "#examples\n",
    "var1 = 1234"
   ]
  },
  {
   "cell_type": "code",
   "execution_count": 8,
   "id": "1a5dac09",
   "metadata": {},
   "outputs": [
    {
     "data": {
      "text/plain": [
       "1234.0"
      ]
     },
     "execution_count": 8,
     "metadata": {},
     "output_type": "execute_result"
    }
   ],
   "source": [
    "float(var1)"
   ]
  },
  {
   "cell_type": "code",
   "execution_count": 9,
   "id": "7c95e2c1",
   "metadata": {},
   "outputs": [
    {
     "data": {
      "text/plain": [
       "'1234'"
      ]
     },
     "execution_count": 9,
     "metadata": {},
     "output_type": "execute_result"
    }
   ],
   "source": [
    "str(var1)"
   ]
  },
  {
   "cell_type": "code",
   "execution_count": 10,
   "id": "abeb581a",
   "metadata": {},
   "outputs": [],
   "source": [
    "str1 = \"1133545\""
   ]
  },
  {
   "cell_type": "code",
   "execution_count": 11,
   "id": "79db748b",
   "metadata": {},
   "outputs": [
    {
     "data": {
      "text/plain": [
       "1133545"
      ]
     },
     "execution_count": 11,
     "metadata": {},
     "output_type": "execute_result"
    }
   ],
   "source": [
    "int(str1)"
   ]
  },
  {
   "cell_type": "markdown",
   "id": "9602ea2e",
   "metadata": {},
   "source": [
    "10. Why does this expression cause an error? How can you fix it?\n",
    "\n",
    "'I have eaten ' + 99 + ' burritos.'\n"
   ]
  },
  {
   "cell_type": "code",
   "execution_count": 12,
   "id": "aacc2665",
   "metadata": {},
   "outputs": [
    {
     "ename": "TypeError",
     "evalue": "can only concatenate str (not \"int\") to str",
     "output_type": "error",
     "traceback": [
      "\u001b[1;31m---------------------------------------------------------------------------\u001b[0m",
      "\u001b[1;31mTypeError\u001b[0m                                 Traceback (most recent call last)",
      "Cell \u001b[1;32mIn[12], line 1\u001b[0m\n\u001b[1;32m----> 1\u001b[0m \u001b[38;5;124;43m'\u001b[39;49m\u001b[38;5;124;43mI have eaten \u001b[39;49m\u001b[38;5;124;43m'\u001b[39;49m\u001b[43m \u001b[49m\u001b[38;5;241;43m+\u001b[39;49m\u001b[43m \u001b[49m\u001b[38;5;241;43m99\u001b[39;49m \u001b[38;5;241m+\u001b[39m \u001b[38;5;124m'\u001b[39m\u001b[38;5;124m burritos.\u001b[39m\u001b[38;5;124m'\u001b[39m\n",
      "\u001b[1;31mTypeError\u001b[0m: can only concatenate str (not \"int\") to str"
     ]
    }
   ],
   "source": [
    "'I have eaten ' + 99 + ' burritos.'"
   ]
  },
  {
   "cell_type": "code",
   "execution_count": 13,
   "id": "186fe854",
   "metadata": {},
   "outputs": [
    {
     "data": {
      "text/plain": [
       "'I have eaten 99 burritos.'"
      ]
     },
     "execution_count": 13,
     "metadata": {},
     "output_type": "execute_result"
    }
   ],
   "source": [
    "# the above expresson wont work because string cant be concatenated with a integer\n",
    "# only same data types can be concatinated\n",
    "'I have eaten ' + '99' + ' burritos.'"
   ]
  },
  {
   "cell_type": "code",
   "execution_count": null,
   "id": "b88c2ffa",
   "metadata": {},
   "outputs": [],
   "source": []
  }
 ],
 "metadata": {
  "kernelspec": {
   "display_name": "Python 3 (ipykernel)",
   "language": "python",
   "name": "python3"
  },
  "language_info": {
   "codemirror_mode": {
    "name": "ipython",
    "version": 3
   },
   "file_extension": ".py",
   "mimetype": "text/x-python",
   "name": "python",
   "nbconvert_exporter": "python",
   "pygments_lexer": "ipython3",
   "version": "3.10.9"
  }
 },
 "nbformat": 4,
 "nbformat_minor": 5
}
